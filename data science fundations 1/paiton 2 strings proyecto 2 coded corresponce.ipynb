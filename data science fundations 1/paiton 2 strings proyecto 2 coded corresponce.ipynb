{
 "cells": [
  {
   "cell_type": "code",
   "execution_count": 44,
   "id": "0e0ab353",
   "metadata": {},
   "outputs": [
    {
     "name": "stdout",
     "output_type": "stream",
     "text": [
      "hey there! this is an example of a caesar cipher. were you able to decode it? i hope so! send me a message back with the same offset!\n"
     ]
    }
   ],
   "source": [
    "def decode(encoded_message:str, offset:int):\n",
    "    lower_encoded_message = encoded_message.lower()\n",
    "    decoded_message=''\n",
    "    for char in lower_encoded_message:\n",
    "        ascii_char = ord(char)\n",
    "        if char >= 'a' and char <= 'z':\n",
    "            ascii_char+=offset\n",
    "            if ascii_char > 122:\n",
    "                ascii_char -= 26\n",
    "        new_char= chr(ascii_char)\n",
    "        decoded_message+=new_char\n",
    "\n",
    "    return (decoded_message)\n",
    "\n",
    "def encode(decoded_message: str, offset:int):\n",
    "    lower_decoded_message = decoded_message.lower()\n",
    "    encoded_message=''\n",
    "    for char in lower_decoded_message:\n",
    "        ascii_char = ord(char)\n",
    "        if char >= 'a' and char <= 'z':\n",
    "            ascii_char-=offset\n",
    "            if ascii_char < 97:\n",
    "                ascii_char += 26\n",
    "        new_char= chr(ascii_char)\n",
    "        encoded_message+=new_char\n",
    "\n",
    "    return (encoded_message)\n",
    "\n",
    "encoded_message = 'xuo jxuhu! jxyi yi qd unqcfbu ev q squiqh syfxuh. muhu oek qrbu je tusetu yj? y xefu ie! iudt cu q cuiiqwu rqsa myjx jxu iqcu evviuj!'\n",
    "decoded_message = decode(encoded_message, 10)\n",
    "print(decoded_message)\n"
   ]
  },
  {
   "cell_type": "code",
   "execution_count": 46,
   "id": "2051437f",
   "metadata": {},
   "outputs": [
    {
     "name": "stdout",
     "output_type": "stream",
     "text": [
      "cjgv v ojyjn\n",
      "hola a todos\n"
     ]
    }
   ],
   "source": [
    "encoded_message = encode('Hola a todos', 5)\n",
    "print (encoded_message)\n",
    "decoded_message = decode(encoded_message, 5)\n",
    "print(decoded_message)\n"
   ]
  },
  {
   "cell_type": "code",
   "execution_count": 50,
   "id": "33ab868d",
   "metadata": {},
   "outputs": [
    {
     "name": "stdout",
     "output_type": "stream",
     "text": [
      "'s' to stop and other character to continue \n",
      ":\n",
      "offset = 1\twigjonylm bupy lyhxylyx uff iz nbymy ifx wcjbylm ivmifyny. qy'ff bupy ni lyuffs mnyj oj iol augy cz qy quhn ni eyyj iol gymmuaym muzy.\n",
      "->c\n",
      "offset = 2\txjhkpozmn cvqz mziyzmzy vgg ja ocznz jgy xdkczmn jwnjgzoz. rz'gg cvqz oj mzvggt nozk pk jpm bvhz da rz rvio oj fzzk jpm hznnvbzn nvaz.\n",
      "->c\n",
      "offset = 3\tykilqpano dwra najzanaz whh kb pdaoa khz yeldano kxokhapa. sa'hh dwra pk nawhhu opal ql kqn cwia eb sa swjp pk gaal kqn iaoowcao owba.\n",
      "->c\n",
      "offset = 4\tzljmrqbop exsb obkaboba xii lc qebpb lia zfmebop lyplibqb. tb'ii exsb ql obxiiv pqbm rm lro dxjb fc tb txkq ql hbbm lro jbppxdbp pxcb.\n",
      "->c\n",
      "offset = 5\tamknsrcpq fytc pclbcpcb yjj md rfcqc mjb agnfcpq mzqmjcrc. uc'jj fytc rm pcyjjw qrcn sn msp eykc gd uc uylr rm iccn msp kcqqyecq qydc.\n",
      "->c\n",
      "offset = 6\tbnlotsdqr gzud qdmcdqdc zkk ne sgdrd nkc bhogdqr narnkdsd. vd'kk gzud sn qdzkkx rsdo to ntq fzld he vd vzms sn jddo ntq ldrrzfdr rzed.\n",
      "->c\n",
      "offset = 7\tcomputers have rendered all of these old ciphers obsolete. we'll have to really step up our game if we want to keep our messages safe.\n",
      "->s\n"
     ]
    }
   ],
   "source": [
    "encoded_message = \"vhfinmxkl atox kxgwxkxw tee hy maxlx hew vbiaxkl hulhexmx. px'ee atox mh kxteer lmxi ni hnk ztfx by px ptgm mh dxxi hnk fxlltzxl ltyx.\"\n",
    "stop = False\n",
    "offset = 1\n",
    "print(\"'s' to stop and other character to continue \\n:\")\n",
    "while stop == False:\n",
    "    print(\"offset = \"+str(offset)+\"\\t\"+decode(encoded_message, offset))\n",
    "    offset+=1\n",
    "    entrada = input(\"->\")\n",
    "    if entrada == 's':\n",
    "        stop = True"
   ]
  },
  {
   "cell_type": "code",
   "execution_count": 31,
   "id": "6211e529",
   "metadata": {},
   "outputs": [],
   "source": [
    "def decode(encoded_message:str, offset:int):\n",
    "    lower_encoded_message = encoded_message.lower()\n",
    "    decoded_message=''\n",
    "    for char in lower_encoded_message:\n",
    "        ascii_char = ord(char)\n",
    "        if char >= 'a' and char <= 'z':\n",
    "            ascii_char+=offset\n",
    "            if ascii_char > 122:\n",
    "                ascii_char -= 26\n",
    "        new_char= chr(ascii_char)\n",
    "        decoded_message+=new_char\n",
    "\n",
    "    return (decoded_message)\n",
    "\n",
    "def get_offset(char):\n",
    "    char = char.lower()\n",
    "    asci = ord(char)\n",
    "    new_asci = asci - 97\n",
    "    return (new_asci)\n",
    "    \n",
    "def keyword_phrase_creator(lower_encoded_message, keyword):\n",
    "    limit = len(keyword)\n",
    "    keyword_phrase=''\n",
    "    i=0\n",
    "    for char in lower_encoded_message:\n",
    "        if char >= 'a' and char <= 'z':\n",
    "            keyword_phrase+=keyword[i]\n",
    "            i+=1\n",
    "        else:\n",
    "            keyword_phrase+=char\n",
    "        if i >= limit:\n",
    "            i=0\n",
    "            \n",
    "    return(keyword_phrase)\n",
    "    \n",
    "def decoder2(encoded_message, keyword):\n",
    "    lower_encoded_message = encoded_message.lower()\n",
    "    decoded_message=''\n",
    "    keyword_phrase = keyword_phrase_creator(lower_encoded_message, keyword)\n",
    "    i=0\n",
    "    lenght=len(lower_encoded_message)\n",
    "    for i in range(lenght):\n",
    "        if lower_encoded_message[i] >= 'a' and lower_encoded_message[i] <= 'z':\n",
    "            new_char = decode (  lower_encoded_message[i], get_offset(keyword_phrase[i]))\n",
    "        else:\n",
    "            new_char = lower_encoded_message[i]\n",
    "        decoded_message+=new_char\n",
    "        \n",
    "    return decoded_message\n",
    "        "
   ]
  },
  {
   "cell_type": "code",
   "execution_count": 32,
   "id": "ec6b8294",
   "metadata": {},
   "outputs": [
    {
     "name": "stdout",
     "output_type": "stream",
     "text": [
      "you were able to decode this? nice work! you are becoming quite the expert at cryptography!\n"
     ]
    }
   ],
   "source": [
    "encoded_message = 'txm srom vkda gl lzlgzr qpdb? fepb ejac! ubr imn tapludwy mhfbz cza ruxzal wg zztylktoikqq!'\n",
    "keyword = 'friends'\n",
    "decoded_message =''\n",
    "decoded_message= decoder2(encoded_message, keyword)\n",
    "print(decoded_message)"
   ]
  },
  {
   "cell_type": "code",
   "execution_count": 36,
   "id": "42931667",
   "metadata": {},
   "outputs": [
    {
     "name": "stdout",
     "output_type": "stream",
     "text": [
      "cxdw, pluj nkpnp?\n",
      "hola, como estas?\n"
     ]
    }
   ],
   "source": [
    "def encode(decoded_message: str, offset:int):\n",
    "    lower_decoded_message = decoded_message.lower()\n",
    "    encoded_message=''\n",
    "    for char in lower_decoded_message:\n",
    "        ascii_char = ord(char)\n",
    "        if char >= 'a' and char <= 'z':\n",
    "            ascii_char-=offset\n",
    "            if ascii_char < 97:\n",
    "                ascii_char += 26\n",
    "        new_char= chr(ascii_char)\n",
    "        encoded_message+=new_char\n",
    "\n",
    "    return (encoded_message)\n",
    "\n",
    "def get_offset(char):\n",
    "    char = char.lower()\n",
    "    asci = ord(char)\n",
    "    new_asci = asci - 97\n",
    "    return (new_asci)\n",
    "    \n",
    "def keyword_phrase_creator(lower_encoded_message, keyword):\n",
    "    limit = len(keyword)\n",
    "    keyword_phrase=''\n",
    "    i=0\n",
    "    for char in lower_encoded_message:\n",
    "        if char >= 'a' and char <= 'z':\n",
    "            keyword_phrase+=keyword[i]\n",
    "            i+=1\n",
    "        else:\n",
    "            keyword_phrase+=char\n",
    "        if i >= limit:\n",
    "            i=0\n",
    "            \n",
    "    return(keyword_phrase)\n",
    "    \n",
    "def encoder2(decoded_message, keyword):\n",
    "    lower_decoded_message = decoded_message.lower()\n",
    "    encoded_message=''\n",
    "    keyword_phrase = keyword_phrase_creator(lower_decoded_message, keyword)\n",
    "    i=0\n",
    "    lenght=len(lower_decoded_message)\n",
    "    for i in range(lenght):\n",
    "        if lower_decoded_message[i] >= 'a' and lower_decoded_message[i] <= 'z':\n",
    "            new_char = encode (  lower_decoded_message[i], get_offset(keyword_phrase[i]))\n",
    "        else:\n",
    "            new_char = lower_decoded_message[i]\n",
    "        encoded_message+=new_char\n",
    "        \n",
    "    return encoded_message\n",
    "        \n",
    "    \n",
    "decoded_message = 'hola, como estas?'\n",
    "keyword = 'friends'\n",
    "encoded_message =''\n",
    "encoded_message= encoder2(decoded_message, keyword)\n",
    "print(encoded_message)\n",
    "\n",
    "decoded_message= decoder2(encoded_message, keyword)\n",
    "print(decoded_message)"
   ]
  },
  {
   "cell_type": "code",
   "execution_count": null,
   "id": "84239848",
   "metadata": {},
   "outputs": [],
   "source": []
  }
 ],
 "metadata": {
  "kernelspec": {
   "display_name": "Python 3 (ipykernel)",
   "language": "python",
   "name": "python3"
  },
  "language_info": {
   "codemirror_mode": {
    "name": "ipython",
    "version": 3
   },
   "file_extension": ".py",
   "mimetype": "text/x-python",
   "name": "python",
   "nbconvert_exporter": "python",
   "pygments_lexer": "ipython3",
   "version": "3.11.5"
  }
 },
 "nbformat": 4,
 "nbformat_minor": 5
}
