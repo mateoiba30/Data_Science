{
 "cells": [
  {
   "cell_type": "code",
   "execution_count": 20,
   "id": "275d7703",
   "metadata": {},
   "outputs": [
    {
     "name": "stdout",
     "output_type": "stream",
     "text": [
      "['Damages not recorded', 100000000.0, 'Damages not recorded', 40000000.0, 27900000.0, 5000000.0, 'Damages not recorded', 306000000.0, 2000000.0, 65800000.0, 326000000.0, 60300000.0, 208000000.0, 1420000000.0, 25400000.0, 'Damages not recorded', 1540000000.0, 1240000000.0, 7100000000.0, 10000000000.0, 26500000000.0, 6200000000.0, 5370000000.0, 23300000000.0, 1010000000.0, 125000000000.0, 12000000000.0, 29400000000.0, 1760000000.0, 720000000.0, 15100000000.0, 64800000000.0, 91600000000.0, 25100000000.0]\n"
     ]
    }
   ],
   "source": [
    "def array_to_float (damages):\n",
    "    convertion = {'M':1000000, \"B\":1000000000}\n",
    "    float_damages = []\n",
    "    \n",
    "    for damage in damages:\n",
    "        if damage != \"Damages not recorded\":\n",
    "            letter = damage[-1]\n",
    "            damage=damage[:-1] #saco el B o M del final\n",
    "            float_damage = float(damage) * convertion[letter]\n",
    "            float_damages.append(float_damage)\n",
    "        else:\n",
    "            float_damages.append(\"Damages not recorded\")\n",
    "        \n",
    "    return float_damages\n",
    "\n",
    "damages = ['Damages not recorded', '100M', 'Damages not recorded', '40M', '27.9M', '5M', 'Damages not recorded', '306M', '2M', '65.8M', '326M', '60.3M', '208M', '1.42B', '25.4M', 'Damages not recorded', '1.54B', '1.24B', '7.1B', '10B', '26.5B', '6.2B', '5.37B', '23.3B', '1.01B', '125B', '12B', '29.4B', '1.76B', '720M', '15.1B', '64.8B', '91.6B', '25.1B']\n",
    "\n",
    "float_damages= array_to_float(damages)\n",
    "print(float_damages)"
   ]
  },
  {
   "cell_type": "code",
   "execution_count": 26,
   "id": "bb983809",
   "metadata": {},
   "outputs": [],
   "source": [
    "def make_dictionary (names, months, years, max_sustained_winds, areas_affected, damages, deaths):\n",
    "    main_dictionary = {}\n",
    "    float_damages = array_to_float(damages)\n",
    "    \n",
    "    for i in range(34):\n",
    "        temp_dictionary = {'Name':names[i], 'Month':months[i], 'Year':years[i], 'Max Sustained Winds':max_sustained_winds[i], 'Areas Affected':areas_affected[i], 'Damage':float_damages[i], 'Deaths':deaths[i]}\n",
    "        main_dictionary.update({names[i]:temp_dictionary})\n",
    "        \n",
    "    return main_dictionary"
   ]
  },
  {
   "cell_type": "code",
   "execution_count": 27,
   "id": "331fb76b",
   "metadata": {},
   "outputs": [
    {
     "name": "stdout",
     "output_type": "stream",
     "text": [
      "{'Cuba I': {'Name': 'Cuba I', 'Month': 'October', 'Year': 1924, 'Max Sustained Winds': 165, 'Areas Affected': ['Central America', 'Mexico', 'Cuba', 'Florida', 'The Bahamas'], 'Damage': 'Damages not recorded', 'Deaths': 90}, 'San Felipe II Okeechobee': {'Name': 'San Felipe II Okeechobee', 'Month': 'September', 'Year': 1928, 'Max Sustained Winds': 160, 'Areas Affected': ['Lesser Antilles', 'The Bahamas', 'United States East Coast', 'Atlantic Canada'], 'Damage': 100000000.0, 'Deaths': 4000}, 'Bahamas': {'Name': 'Bahamas', 'Month': 'September', 'Year': 1932, 'Max Sustained Winds': 160, 'Areas Affected': ['The Bahamas', 'Northeastern United States'], 'Damage': 'Damages not recorded', 'Deaths': 16}, 'Cuba II': {'Name': 'Cuba II', 'Month': 'November', 'Year': 1932, 'Max Sustained Winds': 175, 'Areas Affected': ['Lesser Antilles', 'Jamaica', 'Cayman Islands', 'Cuba', 'The Bahamas', 'Bermuda'], 'Damage': 40000000.0, 'Deaths': 3103}, 'CubaBrownsville': {'Name': 'CubaBrownsville', 'Month': 'August', 'Year': 1933, 'Max Sustained Winds': 160, 'Areas Affected': ['The Bahamas', 'Cuba', 'Florida', 'Texas', 'Tamaulipas'], 'Damage': 27900000.0, 'Deaths': 179}, 'Tampico': {'Name': 'Tampico', 'Month': 'September', 'Year': 1933, 'Max Sustained Winds': 160, 'Areas Affected': ['Jamaica', 'Yucatn Peninsula'], 'Damage': 5000000.0, 'Deaths': 184}, 'Labor Day': {'Name': 'Labor Day', 'Month': 'September', 'Year': 1935, 'Max Sustained Winds': 185, 'Areas Affected': ['The Bahamas', 'Florida', 'Georgia', 'The Carolinas', 'Virginia'], 'Damage': 'Damages not recorded', 'Deaths': 408}, 'New England': {'Name': 'New England', 'Month': 'September', 'Year': 1938, 'Max Sustained Winds': 160, 'Areas Affected': ['Southeastern United States', 'Northeastern United States', 'Southwestern Quebec'], 'Damage': 306000000.0, 'Deaths': 682}, 'Carol': {'Name': 'Carol', 'Month': 'September', 'Year': 1953, 'Max Sustained Winds': 160, 'Areas Affected': ['Bermuda', 'New England', 'Atlantic Canada'], 'Damage': 2000000.0, 'Deaths': 5}, 'Janet': {'Name': 'Janet', 'Month': 'September', 'Year': 1955, 'Max Sustained Winds': 175, 'Areas Affected': ['Lesser Antilles', 'Central America'], 'Damage': 65800000.0, 'Deaths': 1023}, 'Carla': {'Name': 'Carla', 'Month': 'September', 'Year': 1961, 'Max Sustained Winds': 175, 'Areas Affected': ['Texas', 'Louisiana', 'Midwestern United States'], 'Damage': 326000000.0, 'Deaths': 43}, 'Hattie': {'Name': 'Hattie', 'Month': 'October', 'Year': 1961, 'Max Sustained Winds': 160, 'Areas Affected': ['Central America'], 'Damage': 60300000.0, 'Deaths': 319}, 'Beulah': {'Name': 'Beulah', 'Month': 'September', 'Year': 1967, 'Max Sustained Winds': 160, 'Areas Affected': ['The Caribbean', 'Mexico', 'Texas'], 'Damage': 208000000.0, 'Deaths': 688}, 'Camille': {'Name': 'Camille', 'Month': 'August', 'Year': 1969, 'Max Sustained Winds': 175, 'Areas Affected': ['Cuba', 'United States Gulf Coast'], 'Damage': 1420000000.0, 'Deaths': 259}, 'Edith': {'Name': 'Edith', 'Month': 'September', 'Year': 1971, 'Max Sustained Winds': 160, 'Areas Affected': ['The Caribbean', 'Central America', 'Mexico', 'United States Gulf Coast'], 'Damage': 25400000.0, 'Deaths': 37}, 'Anita': {'Name': 'Anita', 'Month': 'September', 'Year': 1977, 'Max Sustained Winds': 175, 'Areas Affected': ['Mexico'], 'Damage': 'Damages not recorded', 'Deaths': 11}, 'David': {'Name': 'David', 'Month': 'August', 'Year': 1979, 'Max Sustained Winds': 175, 'Areas Affected': ['The Caribbean', 'United States East coast'], 'Damage': 1540000000.0, 'Deaths': 2068}, 'Allen': {'Name': 'Allen', 'Month': 'August', 'Year': 1980, 'Max Sustained Winds': 190, 'Areas Affected': ['The Caribbean', 'Yucatn Peninsula', 'Mexico', 'South Texas'], 'Damage': 1240000000.0, 'Deaths': 269}, 'Gilbert': {'Name': 'Gilbert', 'Month': 'September', 'Year': 1988, 'Max Sustained Winds': 185, 'Areas Affected': ['Jamaica', 'Venezuela', 'Central America', 'Hispaniola', 'Mexico'], 'Damage': 7100000000.0, 'Deaths': 318}, 'Hugo': {'Name': 'Hugo', 'Month': 'September', 'Year': 1989, 'Max Sustained Winds': 160, 'Areas Affected': ['The Caribbean', 'United States East Coast'], 'Damage': 10000000000.0, 'Deaths': 107}, 'Andrew': {'Name': 'Andrew', 'Month': 'August', 'Year': 1992, 'Max Sustained Winds': 175, 'Areas Affected': ['The Bahamas', 'Florida', 'United States Gulf Coast'], 'Damage': 26500000000.0, 'Deaths': 65}, 'Mitch': {'Name': 'Mitch', 'Month': 'October', 'Year': 1998, 'Max Sustained Winds': 180, 'Areas Affected': ['Central America', 'Yucatn Peninsula', 'South Florida'], 'Damage': 6200000000.0, 'Deaths': 19325}, 'Isabel': {'Name': 'Isabel', 'Month': 'September', 'Year': 2003, 'Max Sustained Winds': 165, 'Areas Affected': ['Greater Antilles', 'Bahamas', 'Eastern United States', 'Ontario'], 'Damage': 5370000000.0, 'Deaths': 51}, 'Ivan': {'Name': 'Ivan', 'Month': 'September', 'Year': 2004, 'Max Sustained Winds': 165, 'Areas Affected': ['The Caribbean', 'Venezuela', 'United States Gulf Coast'], 'Damage': 23300000000.0, 'Deaths': 124}, 'Emily': {'Name': 'Emily', 'Month': 'July', 'Year': 2005, 'Max Sustained Winds': 160, 'Areas Affected': ['Windward Islands', 'Jamaica', 'Mexico', 'Texas'], 'Damage': 1010000000.0, 'Deaths': 17}, 'Katrina': {'Name': 'Katrina', 'Month': 'August', 'Year': 2005, 'Max Sustained Winds': 175, 'Areas Affected': ['Bahamas', 'United States Gulf Coast'], 'Damage': 125000000000.0, 'Deaths': 1836}, 'Rita': {'Name': 'Rita', 'Month': 'September', 'Year': 2005, 'Max Sustained Winds': 180, 'Areas Affected': ['Cuba', 'United States Gulf Coast'], 'Damage': 12000000000.0, 'Deaths': 125}, 'Wilma': {'Name': 'Wilma', 'Month': 'October', 'Year': 2005, 'Max Sustained Winds': 185, 'Areas Affected': ['Greater Antilles', 'Central America', 'Florida'], 'Damage': 29400000000.0, 'Deaths': 87}, 'Dean': {'Name': 'Dean', 'Month': 'August', 'Year': 2007, 'Max Sustained Winds': 175, 'Areas Affected': ['The Caribbean', 'Central America'], 'Damage': 1760000000.0, 'Deaths': 45}, 'Felix': {'Name': 'Felix', 'Month': 'September', 'Year': 2007, 'Max Sustained Winds': 175, 'Areas Affected': ['Nicaragua', 'Honduras'], 'Damage': 720000000.0, 'Deaths': 133}, 'Matthew': {'Name': 'Matthew', 'Month': 'October', 'Year': 2016, 'Max Sustained Winds': 165, 'Areas Affected': ['Antilles', 'Venezuela', 'Colombia', 'United States East Coast', 'Atlantic Canada'], 'Damage': 15100000000.0, 'Deaths': 603}, 'Irma': {'Name': 'Irma', 'Month': 'September', 'Year': 2017, 'Max Sustained Winds': 180, 'Areas Affected': ['Cape Verde', 'The Caribbean', 'British Virgin Islands', 'U.S. Virgin Islands', 'Cuba', 'Florida'], 'Damage': 64800000000.0, 'Deaths': 138}, 'Maria': {'Name': 'Maria', 'Month': 'September', 'Year': 2017, 'Max Sustained Winds': 175, 'Areas Affected': ['Lesser Antilles', 'Virgin Islands', 'Puerto Rico', 'Dominican Republic', 'Turks and Caicos Islands'], 'Damage': 91600000000.0, 'Deaths': 3057}, 'Michael': {'Name': 'Michael', 'Month': 'October', 'Year': 2018, 'Max Sustained Winds': 160, 'Areas Affected': ['Central America', 'United States Gulf Coast (especially Florida Panhandle)'], 'Damage': 25100000000.0, 'Deaths': 74}}\n"
     ]
    }
   ],
   "source": [
    "# names of hurricanes\n",
    "names = ['Cuba I', 'San Felipe II Okeechobee', 'Bahamas', 'Cuba II', 'CubaBrownsville', 'Tampico', 'Labor Day', 'New England', 'Carol', 'Janet', 'Carla', 'Hattie', 'Beulah', 'Camille', 'Edith', 'Anita', 'David', 'Allen', 'Gilbert', 'Hugo', 'Andrew', 'Mitch', 'Isabel', 'Ivan', 'Emily', 'Katrina', 'Rita', 'Wilma', 'Dean', 'Felix', 'Matthew', 'Irma', 'Maria', 'Michael']\n",
    "\n",
    "# months of hurricanes\n",
    "months = ['October', 'September', 'September', 'November', 'August', 'September', 'September', 'September', 'September', 'September', 'September', 'October', 'September', 'August', 'September', 'September', 'August', 'August', 'September', 'September', 'August', 'October', 'September', 'September', 'July', 'August', 'September', 'October', 'August', 'September', 'October', 'September', 'September', 'October']\n",
    "\n",
    "# years of hurricanes\n",
    "years = [1924, 1928, 1932, 1932, 1933, 1933, 1935, 1938, 1953, 1955, 1961, 1961, 1967, 1969, 1971, 1977, 1979, 1980, 1988, 1989, 1992, 1998, 2003, 2004, 2005, 2005, 2005, 2005, 2007, 2007, 2016, 2017, 2017, 2018]\n",
    "\n",
    "# maximum sustained winds (mph) of hurricanes\n",
    "max_sustained_winds = [165, 160, 160, 175, 160, 160, 185, 160, 160, 175, 175, 160, 160, 175, 160, 175, 175, 190, 185, 160, 175, 180, 165, 165, 160, 175, 180, 185, 175, 175, 165, 180, 175, 160]\n",
    "\n",
    "# areas affected by each hurricane\n",
    "areas_affected = [['Central America', 'Mexico', 'Cuba', 'Florida', 'The Bahamas'], ['Lesser Antilles', 'The Bahamas', 'United States East Coast', 'Atlantic Canada'], ['The Bahamas', 'Northeastern United States'], ['Lesser Antilles', 'Jamaica', 'Cayman Islands', 'Cuba', 'The Bahamas', 'Bermuda'], ['The Bahamas', 'Cuba', 'Florida', 'Texas', 'Tamaulipas'], ['Jamaica', 'Yucatn Peninsula'], ['The Bahamas', 'Florida', 'Georgia', 'The Carolinas', 'Virginia'], ['Southeastern United States', 'Northeastern United States', 'Southwestern Quebec'], ['Bermuda', 'New England', 'Atlantic Canada'], ['Lesser Antilles', 'Central America'], ['Texas', 'Louisiana', 'Midwestern United States'], ['Central America'], ['The Caribbean', 'Mexico', 'Texas'], ['Cuba', 'United States Gulf Coast'], ['The Caribbean', 'Central America', 'Mexico', 'United States Gulf Coast'], ['Mexico'], ['The Caribbean', 'United States East coast'], ['The Caribbean', 'Yucatn Peninsula', 'Mexico', 'South Texas'], ['Jamaica', 'Venezuela', 'Central America', 'Hispaniola', 'Mexico'], ['The Caribbean', 'United States East Coast'], ['The Bahamas', 'Florida', 'United States Gulf Coast'], ['Central America', 'Yucatn Peninsula', 'South Florida'], ['Greater Antilles', 'Bahamas', 'Eastern United States', 'Ontario'], ['The Caribbean', 'Venezuela', 'United States Gulf Coast'], ['Windward Islands', 'Jamaica', 'Mexico', 'Texas'], ['Bahamas', 'United States Gulf Coast'], ['Cuba', 'United States Gulf Coast'], ['Greater Antilles', 'Central America', 'Florida'], ['The Caribbean', 'Central America'], ['Nicaragua', 'Honduras'], ['Antilles', 'Venezuela', 'Colombia', 'United States East Coast', 'Atlantic Canada'], ['Cape Verde', 'The Caribbean', 'British Virgin Islands', 'U.S. Virgin Islands', 'Cuba', 'Florida'], ['Lesser Antilles', 'Virgin Islands', 'Puerto Rico', 'Dominican Republic', 'Turks and Caicos Islands'], ['Central America', 'United States Gulf Coast (especially Florida Panhandle)']]\n",
    "\n",
    "# damages (USD($)) of hurricanes\n",
    "damages = ['Damages not recorded', '100M', 'Damages not recorded', '40M', '27.9M', '5M', 'Damages not recorded', '306M', '2M', '65.8M', '326M', '60.3M', '208M', '1.42B', '25.4M', 'Damages not recorded', '1.54B', '1.24B', '7.1B', '10B', '26.5B', '6.2B', '5.37B', '23.3B', '1.01B', '125B', '12B', '29.4B', '1.76B', '720M', '15.1B', '64.8B', '91.6B', '25.1B']\n",
    "\n",
    "# deaths for each hurricane\n",
    "deaths = [90,4000,16,3103,179,184,408,682,5,1023,43,319,688,259,37,11,2068,269,318,107,65,19325,51,124,17,1836,125,87,45,133,603,138,3057,74]\n",
    "\n",
    "dictionary = make_dictionary(names, months, years, max_sustained_winds, areas_affected, damages, deaths)\n",
    "print(dictionary)"
   ]
  },
  {
   "cell_type": "code",
   "execution_count": 28,
   "id": "0c655044",
   "metadata": {},
   "outputs": [
    {
     "name": "stdout",
     "output_type": "stream",
     "text": [
      "{1924: {'Name': 'Cuba I', 'Month': 'October', 'Year': 1924, 'Max Sustained Winds': 165, 'Areas Affected': ['Central America', 'Mexico', 'Cuba', 'Florida', 'The Bahamas'], 'Damage': 'Damages not recorded', 'Deaths': 90}, 1928: {'Name': 'San Felipe II Okeechobee', 'Month': 'September', 'Year': 1928, 'Max Sustained Winds': 160, 'Areas Affected': ['Lesser Antilles', 'The Bahamas', 'United States East Coast', 'Atlantic Canada'], 'Damage': 100000000.0, 'Deaths': 4000}, 1932: {'Name': 'Cuba II', 'Month': 'November', 'Year': 1932, 'Max Sustained Winds': 175, 'Areas Affected': ['Lesser Antilles', 'Jamaica', 'Cayman Islands', 'Cuba', 'The Bahamas', 'Bermuda'], 'Damage': 40000000.0, 'Deaths': 3103}, 1933: {'Name': 'Tampico', 'Month': 'September', 'Year': 1933, 'Max Sustained Winds': 160, 'Areas Affected': ['Jamaica', 'Yucatn Peninsula'], 'Damage': 5000000.0, 'Deaths': 184}, 1935: {'Name': 'Labor Day', 'Month': 'September', 'Year': 1935, 'Max Sustained Winds': 185, 'Areas Affected': ['The Bahamas', 'Florida', 'Georgia', 'The Carolinas', 'Virginia'], 'Damage': 'Damages not recorded', 'Deaths': 408}, 1938: {'Name': 'New England', 'Month': 'September', 'Year': 1938, 'Max Sustained Winds': 160, 'Areas Affected': ['Southeastern United States', 'Northeastern United States', 'Southwestern Quebec'], 'Damage': 306000000.0, 'Deaths': 682}, 1953: {'Name': 'Carol', 'Month': 'September', 'Year': 1953, 'Max Sustained Winds': 160, 'Areas Affected': ['Bermuda', 'New England', 'Atlantic Canada'], 'Damage': 2000000.0, 'Deaths': 5}, 1955: {'Name': 'Janet', 'Month': 'September', 'Year': 1955, 'Max Sustained Winds': 175, 'Areas Affected': ['Lesser Antilles', 'Central America'], 'Damage': 65800000.0, 'Deaths': 1023}, 1961: {'Name': 'Hattie', 'Month': 'October', 'Year': 1961, 'Max Sustained Winds': 160, 'Areas Affected': ['Central America'], 'Damage': 60300000.0, 'Deaths': 319}, 1967: {'Name': 'Beulah', 'Month': 'September', 'Year': 1967, 'Max Sustained Winds': 160, 'Areas Affected': ['The Caribbean', 'Mexico', 'Texas'], 'Damage': 208000000.0, 'Deaths': 688}, 1969: {'Name': 'Camille', 'Month': 'August', 'Year': 1969, 'Max Sustained Winds': 175, 'Areas Affected': ['Cuba', 'United States Gulf Coast'], 'Damage': 1420000000.0, 'Deaths': 259}, 1971: {'Name': 'Edith', 'Month': 'September', 'Year': 1971, 'Max Sustained Winds': 160, 'Areas Affected': ['The Caribbean', 'Central America', 'Mexico', 'United States Gulf Coast'], 'Damage': 25400000.0, 'Deaths': 37}, 1977: {'Name': 'Anita', 'Month': 'September', 'Year': 1977, 'Max Sustained Winds': 175, 'Areas Affected': ['Mexico'], 'Damage': 'Damages not recorded', 'Deaths': 11}, 1979: {'Name': 'David', 'Month': 'August', 'Year': 1979, 'Max Sustained Winds': 175, 'Areas Affected': ['The Caribbean', 'United States East coast'], 'Damage': 1540000000.0, 'Deaths': 2068}, 1980: {'Name': 'Allen', 'Month': 'August', 'Year': 1980, 'Max Sustained Winds': 190, 'Areas Affected': ['The Caribbean', 'Yucatn Peninsula', 'Mexico', 'South Texas'], 'Damage': 1240000000.0, 'Deaths': 269}, 1988: {'Name': 'Gilbert', 'Month': 'September', 'Year': 1988, 'Max Sustained Winds': 185, 'Areas Affected': ['Jamaica', 'Venezuela', 'Central America', 'Hispaniola', 'Mexico'], 'Damage': 7100000000.0, 'Deaths': 318}, 1989: {'Name': 'Hugo', 'Month': 'September', 'Year': 1989, 'Max Sustained Winds': 160, 'Areas Affected': ['The Caribbean', 'United States East Coast'], 'Damage': 10000000000.0, 'Deaths': 107}, 1992: {'Name': 'Andrew', 'Month': 'August', 'Year': 1992, 'Max Sustained Winds': 175, 'Areas Affected': ['The Bahamas', 'Florida', 'United States Gulf Coast'], 'Damage': 26500000000.0, 'Deaths': 65}, 1998: {'Name': 'Mitch', 'Month': 'October', 'Year': 1998, 'Max Sustained Winds': 180, 'Areas Affected': ['Central America', 'Yucatn Peninsula', 'South Florida'], 'Damage': 6200000000.0, 'Deaths': 19325}, 2003: {'Name': 'Isabel', 'Month': 'September', 'Year': 2003, 'Max Sustained Winds': 165, 'Areas Affected': ['Greater Antilles', 'Bahamas', 'Eastern United States', 'Ontario'], 'Damage': 5370000000.0, 'Deaths': 51}, 2004: {'Name': 'Ivan', 'Month': 'September', 'Year': 2004, 'Max Sustained Winds': 165, 'Areas Affected': ['The Caribbean', 'Venezuela', 'United States Gulf Coast'], 'Damage': 23300000000.0, 'Deaths': 124}, 2005: {'Name': 'Wilma', 'Month': 'October', 'Year': 2005, 'Max Sustained Winds': 185, 'Areas Affected': ['Greater Antilles', 'Central America', 'Florida'], 'Damage': 29400000000.0, 'Deaths': 87}, 2007: {'Name': 'Felix', 'Month': 'September', 'Year': 2007, 'Max Sustained Winds': 175, 'Areas Affected': ['Nicaragua', 'Honduras'], 'Damage': 720000000.0, 'Deaths': 133}, 2016: {'Name': 'Matthew', 'Month': 'October', 'Year': 2016, 'Max Sustained Winds': 165, 'Areas Affected': ['Antilles', 'Venezuela', 'Colombia', 'United States East Coast', 'Atlantic Canada'], 'Damage': 15100000000.0, 'Deaths': 603}, 2017: {'Name': 'Maria', 'Month': 'September', 'Year': 2017, 'Max Sustained Winds': 175, 'Areas Affected': ['Lesser Antilles', 'Virgin Islands', 'Puerto Rico', 'Dominican Republic', 'Turks and Caicos Islands'], 'Damage': 91600000000.0, 'Deaths': 3057}, 2018: {'Name': 'Michael', 'Month': 'October', 'Year': 2018, 'Max Sustained Winds': 160, 'Areas Affected': ['Central America', 'United States Gulf Coast (especially Florida Panhandle)'], 'Damage': 25100000000.0, 'Deaths': 74}}\n"
     ]
    }
   ],
   "source": [
    "def year_key_dictionary(dictionary):\n",
    "    new_dictionary={}\n",
    "    for name, secondary_dictionary in dictionary.items():\n",
    "        year = secondary_dictionary['Year']\n",
    "        new_dictionary.update({year:secondary_dictionary})\n",
    "    return new_dictionary\n",
    "\n",
    "new_dictionary = year_key_dictionary(dictionary)\n",
    "print(new_dictionary)"
   ]
  },
  {
   "cell_type": "code",
   "execution_count": 30,
   "id": "77681771",
   "metadata": {},
   "outputs": [
    {
     "name": "stdout",
     "output_type": "stream",
     "text": [
      "{'Central America': 8, 'Mexico': 6, 'Cuba': 3, 'Florida': 4, 'The Bahamas': 5, 'Lesser Antilles': 4, 'United States East Coast': 3, 'Atlantic Canada': 3, 'Jamaica': 3, 'Cayman Islands': 1, 'Bermuda': 2, 'Yucatn Peninsula': 3, 'Georgia': 1, 'The Carolinas': 1, 'Virginia': 1, 'Southeastern United States': 1, 'Northeastern United States': 1, 'Southwestern Quebec': 1, 'New England': 1, 'The Caribbean': 6, 'Texas': 1, 'United States Gulf Coast': 4, 'United States East coast': 1, 'South Texas': 1, 'Venezuela': 3, 'Hispaniola': 1, 'South Florida': 1, 'Greater Antilles': 2, 'Bahamas': 1, 'Eastern United States': 1, 'Ontario': 1, 'Nicaragua': 1, 'Honduras': 1, 'Antilles': 1, 'Colombia': 1, 'Virgin Islands': 1, 'Puerto Rico': 1, 'Dominican Republic': 1, 'Turks and Caicos Islands': 1, 'United States Gulf Coast (especially Florida Panhandle)': 1}\n"
     ]
    }
   ],
   "source": [
    "def count_affected_areas(dictionary):\n",
    "    areas_affected_dictionary = {}\n",
    "    for year, second_dictionary in dictionary.items():\n",
    "        array_areas_affected = second_dictionary['Areas Affected']\n",
    "        for area in array_areas_affected:\n",
    "            if area in areas_affected_dictionary:\n",
    "                areas_affected_dictionary[area]+=1\n",
    "            else:\n",
    "                areas_affected_dictionary[area]=1 #si no existe entonces lo creo (en 1 porque ya lo afectaron)\n",
    "                \n",
    "    return areas_affected_dictionary\n",
    "\n",
    "areas_affected_dictionary = count_affected_areas(new_dictionary)\n",
    "print(areas_affected_dictionary)"
   ]
  },
  {
   "cell_type": "code",
   "execution_count": 47,
   "id": "24a6702a",
   "metadata": {},
   "outputs": [
    {
     "name": "stdout",
     "output_type": "stream",
     "text": [
      "{'Central America': 8}\n"
     ]
    }
   ],
   "source": [
    "def find_most_affected_area(areas_affected_dictionary):\n",
    "    max_area_count = 0\n",
    "    max_area_name = 'none'\n",
    "    \n",
    "    for name, count in areas_affected_dictionary.items():\n",
    "        if count > max_area_count:     \n",
    "            max_area_count = count\n",
    "            max_area_name = name\n",
    "            \n",
    "    most_affected_dictionary={max_area_name:max_area_count}\n",
    "    return most_affected_dictionary\n",
    "\n",
    "print(find_most_affected_area(areas_affected_dictionary))"
   ]
  },
  {
   "cell_type": "code",
   "execution_count": 52,
   "id": "b307f897",
   "metadata": {},
   "outputs": [
    {
     "name": "stdout",
     "output_type": "stream",
     "text": [
      "{'Cuba I': 90, 'San Felipe II Okeechobee': 4000, 'Bahamas': 16, 'Cuba II': 3103, 'CubaBrownsville': 179, 'Tampico': 184, 'Labor Day': 408, 'New England': 682, 'Carol': 5, 'Janet': 1023, 'Carla': 43, 'Hattie': 319, 'Beulah': 688, 'Camille': 259, 'Edith': 37, 'Anita': 11, 'David': 2068, 'Allen': 269, 'Gilbert': 318, 'Hugo': 107, 'Andrew': 65, 'Mitch': 19325, 'Isabel': 51, 'Ivan': 124, 'Emily': 17, 'Katrina': 1836, 'Rita': 125, 'Wilma': 87, 'Dean': 45, 'Felix': 133, 'Matthew': 603, 'Irma': 138, 'Maria': 3057, 'Michael': 74}\n"
     ]
    }
   ],
   "source": [
    "def deaths_hurricanes_dictionary (dictionary):\n",
    "    deaths_hurricanes_dictionary = {}\n",
    "    \n",
    "    for name, second_dictionary in dictionary.items():\n",
    "        deaths = second_dictionary['Deaths']\n",
    "        deaths_hurricanes_dictionary[name]=deaths #los huracanes no se repiten, cambian de nombre\n",
    "\n",
    "    return deaths_hurricanes_dictionary\n",
    "\n",
    "#print(dictionary)\n",
    "deaths_hurricanes_dictionary = deaths_hurricanes_dictionary(dictionary)\n",
    "print(deaths_hurricanes_dictionary)"
   ]
  },
  {
   "cell_type": "code",
   "execution_count": 54,
   "id": "b6a230e3",
   "metadata": {},
   "outputs": [
    {
     "name": "stdout",
     "output_type": "stream",
     "text": [
      "{0: [], 1: ['Cuba I', 'Bahamas', 'Carol', 'Carla', 'Edith', 'Anita', 'Andrew', 'Isabel', 'Emily', 'Wilma', 'Dean', 'Michael'], 2: ['CubaBrownsville', 'Tampico', 'Labor Day', 'Hattie', 'Camille', 'Allen', 'Gilbert', 'Hugo', 'Ivan', 'Rita', 'Felix', 'Irma'], 3: ['New England', 'Beulah', 'Matthew'], 4: ['San Felipe II Okeechobee', 'Cuba II', 'Janet', 'David', 'Mitch', 'Katrina', 'Maria']}\n"
     ]
    }
   ],
   "source": [
    "def rate_mortality_hurricanes(deaths_hurricanes_dictionary):\n",
    "    mortality_hurricanes_dictionary = {0:[], 1:[], 2:[], 3:[], 4:[]}\n",
    "    for name, deaths in deaths_hurricanes_dictionary.items():\n",
    "        if deaths == 0:\n",
    "            mortality_hurricanes_dictionary[0].append(name)\n",
    "        elif deaths <= 100:\n",
    "            mortality_hurricanes_dictionary[1].append(name)\n",
    "        elif deaths <= 500:\n",
    "            mortality_hurricanes_dictionary[2].append(name)\n",
    "        elif deaths <= 1000:\n",
    "            mortality_hurricanes_dictionary[3].append(name)\n",
    "        else:\n",
    "            mortality_hurricanes_dictionary[4].append(name)\n",
    "            \n",
    "    return mortality_hurricanes_dictionary\n",
    "\n",
    "mortality_hurricanes_dictionary = rate_mortality_hurricanes(deaths_hurricanes_dictionary)\n",
    "print(mortality_hurricanes_dictionary)\n",
    "        "
   ]
  },
  {
   "cell_type": "code",
   "execution_count": 62,
   "id": "1d70f336",
   "metadata": {},
   "outputs": [
    {
     "name": "stdout",
     "output_type": "stream",
     "text": [
      "{'Katrina': 125000000000.0}\n"
     ]
    }
   ],
   "source": [
    "def find_most_costly_hurricane(dictionary):\n",
    "    coslty_name='none'\n",
    "    costly_price=0\n",
    "        \n",
    "    for name, second_dictionary in dictionary.items():\n",
    "        damage = second_dictionary['Damage']\n",
    "        if isinstance(damage, float) and costly_price < damage :     \n",
    "            coslty_name = name\n",
    "            costly_price = damage\n",
    "            \n",
    "    most_costly_dictionary={coslty_name:costly_price}\n",
    "    return most_costly_dictionary\n",
    "\n",
    "most_costly_dictionary= find_most_costly_hurricane (dictionary)\n",
    "print(most_costly_dictionary)"
   ]
  },
  {
   "cell_type": "code",
   "execution_count": 70,
   "id": "2cbc8525",
   "metadata": {},
   "outputs": [
    {
     "name": "stdout",
     "output_type": "stream",
     "text": [
      "{0: [], 1: ['Cuba II', 'CubaBrownsville', 'Tampico', 'Carol', 'Janet', 'Hattie', 'Edith'], 2: ['San Felipe II Okeechobee', 'New England', 'Carla', 'Beulah', 'Felix'], 3: ['Camille', 'David', 'Allen', 'Gilbert', 'Mitch', 'Isabel', 'Emily', 'Dean'], 4: ['Hugo', 'Andrew', 'Ivan', 'Rita', 'Wilma', 'Matthew', 'Michael']}\n"
     ]
    }
   ],
   "source": [
    "damage_scale = {0: 0,\n",
    "                1: 100000000,\n",
    "                2: 1000000000,\n",
    "                3: 10000000000,\n",
    "                4: 50000000000}\n",
    "\n",
    "def rate_damage_hurricanes(damage_scale, dictionary): # podría haber hecho el rate_mortality_hurricanes parecido a este\n",
    "    scales = len(damage_scale)\n",
    "    \n",
    "    for i in range(scales):\n",
    "        damage_hurricanes_dictionary.update({i:[]}) #menos eficiente que hacer solo la soguiente linea, pero es automatico por si la siguiente damAage_scale viene de otra longitud\n",
    "        \n",
    "    #damage_hurricanes_dictionary={0:[], 1:[], 2:[], 3:[], 4:[]}\n",
    "    \n",
    "    for name, second_dictionary in dictionary.items():\n",
    "        damage = second_dictionary['Damage']\n",
    "        for i in range(scales):\n",
    "            if isinstance(damage, float) and damage < damage_scale[i]: # a los que no se les sabe el costo no los guardo en ningun lado\n",
    "                damage_hurricanes_dictionary[i].append(name)\n",
    "                break #para guardarlo en una sola categoria\n",
    "            \n",
    "    return damage_hurricanes_dictionary\n",
    "\n",
    "damage_hurricanes_dictionary=rate_damage_hurricanes(damage_scale, dictionary)\n",
    "print(damage_hurricanes_dictionary)"
   ]
  },
  {
   "cell_type": "code",
   "execution_count": null,
   "id": "9202e74d",
   "metadata": {},
   "outputs": [],
   "source": []
  }
 ],
 "metadata": {
  "kernelspec": {
   "display_name": "Python 3 (ipykernel)",
   "language": "python",
   "name": "python3"
  },
  "language_info": {
   "codemirror_mode": {
    "name": "ipython",
    "version": 3
   },
   "file_extension": ".py",
   "mimetype": "text/x-python",
   "name": "python",
   "nbconvert_exporter": "python",
   "pygments_lexer": "ipython3",
   "version": "3.11.5"
  }
 },
 "nbformat": 4,
 "nbformat_minor": 5
}
