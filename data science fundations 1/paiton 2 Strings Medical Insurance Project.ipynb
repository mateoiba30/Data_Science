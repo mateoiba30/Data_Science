{
 "cells": [
  {
   "cell_type": "code",
   "execution_count": 1,
   "id": "ca09999e",
   "metadata": {},
   "outputs": [
    {
     "name": "stdout",
     "output_type": "stream",
     "text": [
      "Marina Allison   ,27   ,   31.1 , \n",
      "#7010.0   ;Markus Valdez   ,   30, \n",
      "22.4,   #4050.0 ;Connie Ballard ,43 \n",
      ",   25.3 , #12060.0 ;Darnell Weber   \n",
      ",   35   , 20.6   , #7500.0;\n",
      "Sylvie Charles   ,22, 22.1 \n",
      ",#3022.0   ;   Vinay Padilla,24,   \n",
      "26.9 ,#4620.0 ;Meredith Santiago, 51   , \n",
      "29.3 ,#16330.0;   Andre Mccarty, \n",
      "19,22.7 , #2900.0 ; \n",
      "Lorena Hodson ,65, 33.1 , #19370.0; \n",
      "Isaac Vu ,34, 24.8,   #7045.0\n"
     ]
    }
   ],
   "source": [
    "medical_data = \\\n",
    "\"\"\"Marina Allison   ,27   ,   31.1 , \n",
    "#7010.0   ;Markus Valdez   ,   30, \n",
    "22.4,   #4050.0 ;Connie Ballard ,43 \n",
    ",   25.3 , #12060.0 ;Darnell Weber   \n",
    ",   35   , 20.6   , #7500.0;\n",
    "Sylvie Charles   ,22, 22.1 \n",
    ",#3022.0   ;   Vinay Padilla,24,   \n",
    "26.9 ,#4620.0 ;Meredith Santiago, 51   , \n",
    "29.3 ,#16330.0;   Andre Mccarty, \n",
    "19,22.7 , #2900.0 ; \n",
    "Lorena Hodson ,65, 33.1 , #19370.0; \n",
    "Isaac Vu ,34, 24.8,   #7045.0\"\"\"\n",
    "\n",
    "print(medical_data)"
   ]
  },
  {
   "cell_type": "code",
   "execution_count": 3,
   "id": "013e9549",
   "metadata": {},
   "outputs": [
    {
     "name": "stdout",
     "output_type": "stream",
     "text": [
      "Marina Allison   ,27   ,   31.1 , \n",
      "$7010.0   ;Markus Valdez   ,   30, \n",
      "22.4,   $4050.0 ;Connie Ballard ,43 \n",
      ",   25.3 , $12060.0 ;Darnell Weber   \n",
      ",   35   , 20.6   , $7500.0;\n",
      "Sylvie Charles   ,22, 22.1 \n",
      ",$3022.0   ;   Vinay Padilla,24,   \n",
      "26.9 ,$4620.0 ;Meredith Santiago, 51   , \n",
      "29.3 ,$16330.0;   Andre Mccarty, \n",
      "19,22.7 , $2900.0 ; \n",
      "Lorena Hodson ,65, 33.1 , $19370.0; \n",
      "Isaac Vu ,34, 24.8,   $7045.0\n"
     ]
    }
   ],
   "source": [
    "updated_medical_data = medical_data.replace('#', '$')\n",
    "print(updated_medical_data)"
   ]
  },
  {
   "cell_type": "code",
   "execution_count": 6,
   "id": "06ac94d4",
   "metadata": {},
   "outputs": [
    {
     "name": "stdout",
     "output_type": "stream",
     "text": [
      "10\n"
     ]
    }
   ],
   "source": [
    "num_records=0\n",
    "for char in updated_medical_data:\n",
    "    if char == '$':\n",
    "        num_records+=1"
   ]
  },
  {
   "cell_type": "code",
   "execution_count": 8,
   "id": "ffb761f8",
   "metadata": {},
   "outputs": [
    {
     "name": "stdout",
     "output_type": "stream",
     "text": [
      "Trere are 10 medical records in the data\n"
     ]
    }
   ],
   "source": [
    "print(\"Trere are {num_records} medical records in the data\".format(num_records=num_records))"
   ]
  },
  {
   "cell_type": "code",
   "execution_count": 10,
   "id": "53edfc6c",
   "metadata": {},
   "outputs": [
    {
     "name": "stdout",
     "output_type": "stream",
     "text": [
      "10\n"
     ]
    }
   ],
   "source": [
    "medical_data_split = updated_medical_data.split(';')\n",
    "#print(len(medical_data_split))"
   ]
  },
  {
   "cell_type": "code",
   "execution_count": 13,
   "id": "1975d8fa",
   "metadata": {},
   "outputs": [
    {
     "name": "stdout",
     "output_type": "stream",
     "text": [
      "[['Marina Allison   ', '27   ', '   31.1 ', ' \\n$7010.0   '], ['Markus Valdez   ', '   30', ' \\n22.4', '   $4050.0 '], ['Connie Ballard ', '43 \\n', '   25.3 ', ' $12060.0 '], ['Darnell Weber   \\n', '   35   ', ' 20.6   ', ' $7500.0'], ['\\nSylvie Charles   ', '22', ' 22.1 \\n', '$3022.0   '], ['   Vinay Padilla', '24', '   \\n26.9 ', '$4620.0 '], ['Meredith Santiago', ' 51   ', ' \\n29.3 ', '$16330.0'], ['   Andre Mccarty', ' \\n19', '22.7 ', ' $2900.0 '], [' \\nLorena Hodson ', '65', ' 33.1 ', ' $19370.0'], [' \\nIsaac Vu ', '34', ' 24.8', '   $7045.0']]\n"
     ]
    }
   ],
   "source": [
    "medical_records = []\n",
    "for record in medical_data_split:\n",
    "    medical_records.append(record.split(','))\n",
    "print(medical_records)"
   ]
  },
  {
   "cell_type": "code",
   "execution_count": 16,
   "id": "e475a236",
   "metadata": {},
   "outputs": [],
   "source": [
    "medical_records_clean = []"
   ]
  },
  {
   "cell_type": "code",
   "execution_count": 17,
   "id": "aa0bb15d",
   "metadata": {},
   "outputs": [
    {
     "name": "stdout",
     "output_type": "stream",
     "text": [
      "[['Marina Allison', '27', '31.1', '$7010.0'], ['Markus Valdez', '30', '22.4', '$4050.0'], ['Connie Ballard', '43', '25.3', '$12060.0'], ['Darnell Weber', '35', '20.6', '$7500.0'], ['Sylvie Charles', '22', '22.1', '$3022.0'], ['Vinay Padilla', '24', '26.9', '$4620.0'], ['Meredith Santiago', '51', '29.3', '$16330.0'], ['Andre Mccarty', '19', '22.7', '$2900.0'], ['Lorena Hodson', '65', '33.1', '$19370.0'], ['Isaac Vu', '34', '24.8', '$7045.0']]\n"
     ]
    }
   ],
   "source": [
    "for record in medical_records:\n",
    "    record_clean=[]\n",
    "    for item in record:\n",
    "        record_clean.append(item.strip())\n",
    "    medical_records_clean.append(record_clean)\n",
    "    \n",
    "print(medical_records_clean)"
   ]
  },
  {
   "cell_type": "code",
   "execution_count": 21,
   "id": "89ab42b0",
   "metadata": {},
   "outputs": [
    {
     "name": "stdout",
     "output_type": "stream",
     "text": [
      "MARINA ALLISON\n",
      "MARKUS VALDEZ\n",
      "CONNIE BALLARD\n",
      "DARNELL WEBER\n",
      "SYLVIE CHARLES\n",
      "VINAY PADILLA\n",
      "MEREDITH SANTIAGO\n",
      "ANDRE MCCARTY\n",
      "LORENA HODSON\n",
      "ISAAC VU\n"
     ]
    }
   ],
   "source": [
    "#ver nombres:\n",
    "for record in medical_records_clean:\n",
    "    record[0]= record[0].upper()\n",
    "    print(record[0])"
   ]
  },
  {
   "cell_type": "code",
   "execution_count": 23,
   "id": "c2726997",
   "metadata": {},
   "outputs": [
    {
     "name": "stdout",
     "output_type": "stream",
     "text": [
      "['MARINA ALLISON', 'MARKUS VALDEZ', 'CONNIE BALLARD', 'DARNELL WEBER', 'SYLVIE CHARLES', 'VINAY PADILLA', 'MEREDITH SANTIAGO', 'ANDRE MCCARTY', 'LORENA HODSON', 'ISAAC VU']\n",
      "['27', '30', '43', '35', '22', '24', '51', '19', '65', '34']\n",
      "['31.1', '22.4', '25.3', '20.6', '22.1', '26.9', '29.3', '22.7', '33.1', '24.8']\n",
      "['$7010.0', '$4050.0', '$12060.0', '$7500.0', '$3022.0', '$4620.0', '$16330.0', '$2900.0', '$19370.0', '$7045.0']\n"
     ]
    }
   ],
   "source": [
    "names = []\n",
    "ages = []\n",
    "bmis = []\n",
    "insurance_cost = []\n",
    "\n",
    "for record in medical_records_clean :\n",
    "    names.append(record[0])\n",
    "    ages.append(record[1])\n",
    "    bmis.append(record[2])\n",
    "    insurance_cost.append(record[3])\n",
    "    \n",
    "print(names)\n",
    "print(ages)\n",
    "print(bmis)\n",
    "print(insurance_cost)"
   ]
  },
  {
   "cell_type": "code",
   "execution_count": 28,
   "id": "5a495d45",
   "metadata": {},
   "outputs": [
    {
     "name": "stdout",
     "output_type": "stream",
     "text": [
      "Average BMI: 25.83\n"
     ]
    }
   ],
   "source": [
    "total_bmi = 0\n",
    "for bmi in bmis:\n",
    "    total_bmi+=float(bmi)\n",
    "avg_bmi = total_bmi / len(bmis)\n",
    "print(\"Average BMI: \"+str(round(avg_bmi, 3)))"
   ]
  },
  {
   "cell_type": "code",
   "execution_count": null,
   "id": "d2690723",
   "metadata": {},
   "outputs": [],
   "source": []
  }
 ],
 "metadata": {
  "kernelspec": {
   "display_name": "Python 3 (ipykernel)",
   "language": "python",
   "name": "python3"
  },
  "language_info": {
   "codemirror_mode": {
    "name": "ipython",
    "version": 3
   },
   "file_extension": ".py",
   "mimetype": "text/x-python",
   "name": "python",
   "nbconvert_exporter": "python",
   "pygments_lexer": "ipython3",
   "version": "3.11.5"
  }
 },
 "nbformat": 4,
 "nbformat_minor": 5
}
