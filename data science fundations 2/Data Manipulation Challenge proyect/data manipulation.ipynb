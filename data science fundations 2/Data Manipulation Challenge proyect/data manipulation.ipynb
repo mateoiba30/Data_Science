{
 "cells": [
  {
   "cell_type": "code",
   "execution_count": 17,
   "id": "d6a5b15b",
   "metadata": {},
   "outputs": [
    {
     "name": "stdout",
     "output_type": "stream",
     "text": [
      "Empty DataFrame\n",
      "Columns: [Show Number,  Air Date,  Round,  Category,  Value,  Question,  Answer]\n",
      "Index: []\n",
      "   Channel Number    Air Date TV Program                         Category  \\\n",
      "0            4680  2004-12-31  Jeopardy!                          HISTORY   \n",
      "1            4680  2004-12-31  Jeopardy!  ESPN's TOP 10 ALL-TIME ATHLETES   \n",
      "2            4680  2004-12-31  Jeopardy!      EVERYBODY TALKS ABOUT IT...   \n",
      "3            4680  2004-12-31  Jeopardy!                 THE COMPANY LINE   \n",
      "4            4680  2004-12-31  Jeopardy!              EPITAPHS & TRIBUTES   \n",
      "5            4680  2004-12-31  Jeopardy!                   3-LETTER WORDS   \n",
      "6            4680  2004-12-31  Jeopardy!                          HISTORY   \n",
      "7            4680  2004-12-31  Jeopardy!  ESPN's TOP 10 ALL-TIME ATHLETES   \n",
      "8            4680  2004-12-31  Jeopardy!      EVERYBODY TALKS ABOUT IT...   \n",
      "9            4680  2004-12-31  Jeopardy!                 THE COMPANY LINE   \n",
      "\n",
      "  Reward  \\\n",
      "0   $200   \n",
      "1   $200   \n",
      "2   $200   \n",
      "3   $200   \n",
      "4   $200   \n",
      "5   $200   \n",
      "6   $400   \n",
      "7   $400   \n",
      "8   $400   \n",
      "9   $400   \n",
      "\n",
      "                                                                                                        Question  \\\n",
      "0               For the last 8 years of his life, Galileo was under house arrest for espousing this man's theory   \n",
      "1    No. 2: 1912 Olympian; football star at Carlisle Indian School; 6 MLB seasons with the Reds, Giants & Braves   \n",
      "2                       The city of Yuma in this state has a record average of 4,055 hours of sunshine each year   \n",
      "3                           In 1963, live on \"The Art Linkletter Show\", this company served its billionth burger   \n",
      "4       Signer of the Dec. of Indep., framer of the Constitution of Mass., second President of the United States   \n",
      "5                                  In the title of an Aesop fable, this insect shared billing with a grasshopper   \n",
      "6                                   Built in 312 B.C. to link Rome & the South of Italy, it's still in use today   \n",
      "7                                         No. 8: 30 steals for the Birmingham Barons; 2,306 steals for the Bulls   \n",
      "8  In the winter of 1971-72, a record 1,122 inches of snow fell at Rainier Paradise Ranger Station in this state   \n",
      "9             This housewares store was named for the packaging its merchandise came in & was first displayed on   \n",
      "\n",
      "           Answer  \n",
      "0      Copernicus  \n",
      "1      Jim Thorpe  \n",
      "2         Arizona  \n",
      "3      McDonald's  \n",
      "4      John Adams  \n",
      "5         the ant  \n",
      "6  the Appian Way  \n",
      "7  Michael Jordan  \n",
      "8      Washington  \n",
      "9  Crate & Barrel  \n"
     ]
    }
   ],
   "source": [
    "import pandas as pd\n",
    "pd.set_option('display.max_colwidth', None) #para no cortar/truncar el contenido largo que muestran algunas columnas\n",
    "\n",
    "jeopardy_df = pd.read_csv('jeopardy.csv')\n",
    "print(jeopardy_df.head(0))\n",
    "jeopardy_df.columns=['Channel Number', 'Air Date', 'TV Program', 'Category', 'Reward', 'Question', 'Answer']\n",
    "print(jeopardy_df.head(10))"
   ]
  },
  {
   "cell_type": "code",
   "execution_count": 89,
   "id": "124e9ce2",
   "metadata": {},
   "outputs": [],
   "source": [
    "word_list=[\"king\"]\n",
    "def contains(word_list, question):\n",
    "    for word in word_list:\n",
    "        if (\" \"+word not in question) and (\" \"+word.lower() not in question) and (\" \"+word.title() not in question) and (\" \"+word.upper() not in question):\n",
    "            return False\n",
    "    return True\n",
    "#\" \"+str helps to no tinclude 'viking' while searching 'king', but admit 'kings', \"king's\", etc\n",
    "\n",
    "#jeopardy_df_filtered =  jeopardy_df[ jeopardy_df.apply(lambda row: contains([\"King\", \"England\"], row['Question']), axis=1)]\n",
    "#ambas lineas hacen lo mismo\n",
    "jeopardy_df_filtered =  jeopardy_df[ jeopardy_df['Question'].apply(lambda question: contains(word_list, question))]\n",
    "\n",
    "#print(jeopardy_df_filtered)"
   ]
  },
  {
   "cell_type": "code",
   "execution_count": 128,
   "id": "776c12f8",
   "metadata": {},
   "outputs": [],
   "source": [
    "jeopardy_df_floated = jeopardy_df\n",
    "#jeopardy_df_floated['Float Reward']=float(jeopardy_df_floated['Reward'][1:]) #no funciona porque intenta hacer float() con toda la columna a la vez, es mejor operar por fila, indicandolo en el axis como abajo\n",
    "jeopardy_df_floated['Float Reward']=jeopardy_df_floated.apply(lambda row:  float(row['Reward'][1:].replace(',', '').replace('o value', '0')), axis=1)\n",
    "#las que dicen 'no value' les pongo un cero\n",
    "\n",
    "#print(jeopardy_df_floated)"
   ]
  },
  {
   "cell_type": "code",
   "execution_count": 134,
   "id": "6472b441",
   "metadata": {},
   "outputs": [],
   "source": [
    "jeopardy_df_floated_filtered = jeopardy_df_floated[ jeopardy_df_floated['Question'].apply(lambda question: contains(word_list, question))]\n",
    "avg_king_reward = jeopardy_df_floated_filtered['Float Reward'].mean()\n",
    "#print(avg_king_reward)"
   ]
  },
  {
   "cell_type": "code",
   "execution_count": 136,
   "id": "ddf70880",
   "metadata": {},
   "outputs": [
    {
     "name": "stdout",
     "output_type": "stream",
     "text": [
      "4983\n",
      "64\n"
     ]
    }
   ],
   "source": [
    "def number_diferent_answers(df):\n",
    "    return df['Answer'].nunique()\n",
    "print(number_diferent_answers(jeopardy_df))\n",
    "print(number_diferent_answers(jeopardy_df_filtered))#diferentes respuestas para las preguntas de reyes"
   ]
  },
  {
   "cell_type": "code",
   "execution_count": 142,
   "id": "092beff8",
   "metadata": {},
   "outputs": [
    {
     "name": "stdout",
     "output_type": "stream",
     "text": [
      "On 90s there where 2 questions about computers\n",
      "On 2000s there where 9 questions about computers\n"
     ]
    }
   ],
   "source": [
    "jeopardy_df_90s = jeopardy_df[ jeopardy_df.apply(lambda row: '1899-12-31'<row['Air Date']<'2000-01-01', axis=1)]\n",
    "jeopardy_df_90s_computers =  jeopardy_df_90s[ jeopardy_df_90s['Question'].apply(lambda question: contains(['computer'], question))]\n",
    "print(\"On 90s there where \"+str(len(jeopardy_df_90s_computers))+\" questions about computers\")\n",
    "\n",
    "jeopardy_df_00s = jeopardy_df[ jeopardy_df.apply(lambda row: '1999-12-31'<row['Air Date']<'2100-01-01', axis=1)]\n",
    "jeopardy_df_00s_computers =  jeopardy_df_00s[ jeopardy_df_00s['Question'].apply(lambda question: contains(['computer'], question))]\n",
    "print(\"On 2000s there where \"+str(len(jeopardy_df_00s_computers))+\" questions about computers\")"
   ]
  },
  {
   "cell_type": "code",
   "execution_count": 160,
   "id": "c933d56c",
   "metadata": {},
   "outputs": [
    {
     "name": "stdout",
     "output_type": "stream",
     "text": [
      "Matches of 'Literature' category by the different rounds: [0, 15, 0]\n"
     ]
    }
   ],
   "source": [
    "jeopardy_1st_round = jeopardy_df[ (jeopardy_df['TV Program']=='Jeopardy!') ]\n",
    "jeopardy_2nd_round = jeopardy_df[ (jeopardy_df['TV Program']=='Double Jeopardy!') ]\n",
    "jeopardy_3rd_round = jeopardy_df[ (jeopardy_df['TV Program']=='Final Jeopardy!') ]\n",
    "\n",
    "def category_by_rounds(category):\n",
    "    round_matches=[]\n",
    "    round_matches.append( len(jeopardy_1st_round[ (jeopardy_1st_round['Category']==category) | (jeopardy_1st_round['Category']==category.lower()) | (jeopardy_1st_round['Category']==category.upper()) | (jeopardy_1st_round['Category']==category.title()) ]) )\n",
    "    round_matches.append( len(jeopardy_2nd_round[ (jeopardy_2nd_round['Category']==category) | (jeopardy_2nd_round['Category']==category.lower()) | (jeopardy_2nd_round['Category']==category.upper()) | (jeopardy_2nd_round['Category']==category.title()) ]) )\n",
    "    round_matches.append( len(jeopardy_3rd_round[ (jeopardy_3rd_round['Category']==category) | (jeopardy_3rd_round['Category']==category.lower()) | (jeopardy_3rd_round['Category']==category.upper()) | (jeopardy_3rd_round['Category']==category.title()) ]) )\n",
    "    return round_matches\n",
    "\n",
    "print(\"Matches of 'Literature' category by the different rounds: \"+str( category_by_rounds('Literature')))"
   ]
  },
  {
   "cell_type": "code",
   "execution_count": 167,
   "id": "33201801",
   "metadata": {},
   "outputs": [
    {
     "name": "stdout",
     "output_type": "stream",
     "text": [
      "Question number 1, category: DON'T MESS WITH SICILY\n",
      "for $200: At nearly 11,000 feet this \"active\" spot is Sicily's highest point\n",
      "-> Volcan\n",
      "The answer was: Mount Etna\n",
      "did you acerted? if you did it say 'yes'yes\n",
      "Continue? Right now you have 200.0\n",
      " to continue say 'yes' yes\n",
      "Question number 2, category: PHOTOGRAPHERS\n",
      "for $400: In April 1875 the Library of Congress gained possession of his Civil War photographic plates for $25,000\n",
      "-> a\n",
      "The answer was: Mathew Brady\n",
      "did you acerted? if you did it say 'yes'yes\n",
      "Continue? Right now you have 600.0\n",
      " to continue say 'yes' no\n",
      "Congratulations, you won $600.0\n"
     ]
    }
   ],
   "source": [
    "import random\n",
    "\n",
    "def play_quiz():\n",
    "    reward=0\n",
    "    cont = True\n",
    "    question=1\n",
    "    while cont == True:\n",
    "        index = random.randint(0, len(jeopardy_df_floated)-1)\n",
    "        row = jeopardy_df_floated.iloc[index]\n",
    "        response = input(\"Question number \"+str(question)+\", category: \"+row['Category']+\"\\nfor \"+row[\"Reward\"]+\": \"+row['Question']+\"\\n-> \")\n",
    "        response = input(\"The answer was: \"+row['Answer']+\"\\ndid you acerted? if you did it say 'yes'\")\n",
    "        if response == 'yes':\n",
    "            reward+=row['Float Reward']\n",
    "            response = input(\"Continue? Right now you have \"+str(reward)+\"\\n to continue say 'yes' \")\n",
    "            if response != 'yes':\n",
    "                print(\"Congratulations, you won $\"+str(reward))\n",
    "                cont=False\n",
    "        else:\n",
    "            print(\"you loss your reward of $\"+str(reward))\n",
    "            cont=False\n",
    "        question +=1\n",
    "        \n",
    "play_quiz()"
   ]
  },
  {
   "cell_type": "code",
   "execution_count": null,
   "id": "9d57cce2",
   "metadata": {},
   "outputs": [],
   "source": []
  },
  {
   "cell_type": "code",
   "execution_count": null,
   "id": "c1851d9d",
   "metadata": {},
   "outputs": [],
   "source": []
  }
 ],
 "metadata": {
  "kernelspec": {
   "display_name": "Python 3 (ipykernel)",
   "language": "python",
   "name": "python3"
  },
  "language_info": {
   "codemirror_mode": {
    "name": "ipython",
    "version": 3
   },
   "file_extension": ".py",
   "mimetype": "text/x-python",
   "name": "python",
   "nbconvert_exporter": "python",
   "pygments_lexer": "ipython3",
   "version": "3.11.5"
  }
 },
 "nbformat": 4,
 "nbformat_minor": 5
}
