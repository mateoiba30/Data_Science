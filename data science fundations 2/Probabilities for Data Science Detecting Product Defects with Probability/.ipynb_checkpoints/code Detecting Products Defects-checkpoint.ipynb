{
 "cells": [
  {
   "cell_type": "code",
   "execution_count": 15,
   "id": "16f7f916",
   "metadata": {},
   "outputs": [
    {
     "name": "stdout",
     "output_type": "stream",
     "text": [
      "0.14900277967433773\n",
      "0.17299160788207146\n",
      "0.16950406276132668\n",
      "failuers of the year number 0: 4\n",
      "failuers of the year number 1: 3\n",
      "failuers of the year number 2: 8\n",
      "failuers of the year number 3: 4\n",
      "failuers of the year number 4: 5\n",
      "failuers of the year number 5: 6\n",
      "failuers of the year number 6: 2\n",
      "failuers of the year number 7: 9\n",
      "failuers of the year number 8: 14\n",
      "failuers of the year number 9: 7\n",
      "failuers of the year number 10: 7\n",
      "failuers of the year number 11: 4\n",
      "failuers of the year number 12: 5\n",
      "failuers of the year number 13: 7\n",
      "failuers of the year number 14: 10\n",
      "failuers of the year number 15: 3\n",
      "failuers of the year number 16: 8\n",
      "failuers of the year number 17: 6\n",
      "failuers of the year number 18: 8\n",
      "failuers of the year number 19: 7\n",
      "2555\n",
      "2582\n",
      "7.073972602739726\n",
      "7.073972602739726\n",
      "16\n",
      "0.0014483971884803554\n"
     ]
    }
   ],
   "source": [
    "import scipy.stats as stats\n",
    "import numpy as np\n",
    "\n",
    "def histogram_function(rand_vars):\n",
    "    plt.hist(rand_vars, bins = np.arange(len(set(rand_vars)))-0.5, edgecolor = \"black\")\n",
    "    plt.xticks(list(range(rand_vars.max())))\n",
    "    plt.show()\n",
    "    \n",
    "#Poisson, lambda 7\n",
    "lam = 7\n",
    "\n",
    "proba_7_failures = stats.poisson.pmf(lam, lam)\n",
    "print(proba_7_failures)\n",
    "\n",
    "proba_4_or_less_failures = stats.poisson.cdf(4, lam)\n",
    "print(proba_4_or_less_failures)\n",
    "\n",
    "proba_10_or_more_failures = 1 - stats.poisson.cdf(9, lam)\n",
    "print(proba_10_or_more_failures)\n",
    "\n",
    "year_defects = stats.poisson.rvs(lam, size = 365)\n",
    "for year in range(20):\n",
    "    print(\"failuers of the year number \"+str(year)+\": \"+str(year_defects[year]))\n",
    "    \n",
    "expected_year_failures = lam * 365\n",
    "print(expected_year_failures)\n",
    "\n",
    "total_year_failures = 0\n",
    "for year in year_defects:\n",
    "    total_year_failures+=year\n",
    "print(total_year_failures)\n",
    "\n",
    "avg_dayly_failures = total_year_failures / 365\n",
    "print(avg_dayly_failures)\n",
    "print(year_defects.mean()) #otra forma de calcular los defectos promedios de cada día en el año anterior\n",
    "\n",
    "print(year_defects.max())\n",
    "\n",
    "print(stats.poisson.pmf(16, lam))"
   ]
  },
  {
   "cell_type": "code",
   "execution_count": null,
   "id": "c2f2d520",
   "metadata": {},
   "outputs": [],
   "source": []
  }
 ],
 "metadata": {
  "kernelspec": {
   "display_name": "Python 3 (ipykernel)",
   "language": "python",
   "name": "python3"
  },
  "language_info": {
   "codemirror_mode": {
    "name": "ipython",
    "version": 3
   },
   "file_extension": ".py",
   "mimetype": "text/x-python",
   "name": "python",
   "nbconvert_exporter": "python",
   "pygments_lexer": "ipython3",
   "version": "3.11.5"
  }
 },
 "nbformat": 4,
 "nbformat_minor": 5
}
