{
 "cells": [
  {
   "cell_type": "code",
   "execution_count": 1,
   "id": "5ea032e0",
   "metadata": {},
   "outputs": [
    {
     "name": "stdout",
     "output_type": "stream",
     "text": [
      "17\n"
     ]
    }
   ],
   "source": [
    "def get_y(m, x, b):\n",
    "    return (m*x +b)\n",
    "\n",
    "#print(get_y(3,4,5))"
   ]
  },
  {
   "cell_type": "code",
   "execution_count": 4,
   "id": "e9ba7630",
   "metadata": {},
   "outputs": [
    {
     "name": "stdout",
     "output_type": "stream",
     "text": [
      "0\n",
      "1\n",
      "1\n",
      "5\n"
     ]
    }
   ],
   "source": [
    "def calculate_error(m, b, point):\n",
    "    x_point= point[0]\n",
    "    y_point = point[1] \n",
    "    return abs(get_y(m, x_point, b) - y_point) #dentro del mismo x, devuelve cuanto en y se alejó de la recta\n",
    "\n",
    "\n",
    "# this is a line that looks like y = x, so (3, 3) should lie on it. thus, error should be 0:\n",
    "print(calculate_error(1, 0, (3, 3)))\n",
    "\n",
    "# the point (3, 4) should be 1 unit away from the line y = x:\n",
    "print(calculate_error(1, 0, (3, 4)))\n",
    "\n",
    "# the point (3, 3) should be 1 unit away from the line y = x - 1:\n",
    "print(calculate_error(1, -1, (3, 3)))\n",
    "\n",
    "# the point (3, 3) should be 5 units away from the line y = -x + 1:\n",
    "print(calculate_error(-1, 1, (3, 3)))\n",
    "\n",
    "    "
   ]
  },
  {
   "cell_type": "code",
   "execution_count": 5,
   "id": "b0fd4593",
   "metadata": {},
   "outputs": [
    {
     "name": "stdout",
     "output_type": "stream",
     "text": [
      "0\n",
      "4\n",
      "4\n",
      "18\n"
     ]
    }
   ],
   "source": [
    "def calculate_all_error(m, b, points):\n",
    "    total_error=0\n",
    "    for point in points:\n",
    "        total_error+=calculate_error(m, b, point)\n",
    "    return total_error\n",
    "\n",
    "datapoints = [(1, 1), (3, 3), (5, 5), (-1, -1)]\n",
    "\n",
    "# every point in this dataset lies upon y=x, so the total error should be zero:\n",
    "print(calculate_all_error(1, 0, datapoints))\n",
    "\n",
    "# every point in this dataset is 1 unit away from y = x + 1, so the total error should be 4:\n",
    "print(calculate_all_error(1, 1, datapoints))\n",
    "\n",
    "# every point in this dataset is 1 unit away from y = x - 1, so the total error should be 4:\n",
    "print(calculate_all_error(1, -1, datapoints))\n",
    "\n",
    "# the points in this dataset are 1, 5, 9, and 3 units away from y = -x + 1, respectively, so total error should be\n",
    "# 1 + 5 + 9 + 3 = 18\n",
    "print(calculate_all_error(-1, 1, datapoints))"
   ]
  },
  {
   "cell_type": "code",
   "execution_count": 13,
   "id": "70df4291",
   "metadata": {},
   "outputs": [
    {
     "name": "stdout",
     "output_type": "stream",
     "text": [
      "[-10.0, -9.9, -9.8, -9.7, -9.6, -9.5, -9.4, -9.3, -9.2, -9.1, -9.0, -8.9, -8.8, -8.7, -8.6, -8.5, -8.4, -8.3, -8.2, -8.1, -8.0, -7.9, -7.8, -7.7, -7.6, -7.5, -7.4, -7.3, -7.2, -7.1, -7.0, -6.9, -6.8, -6.7, -6.6, -6.5, -6.4, -6.3, -6.2, -6.1, -6.0, -5.9, -5.8, -5.7, -5.6, -5.5, -5.4, -5.3, -5.2, -5.1, -5.0, -4.9, -4.8, -4.7, -4.6, -4.5, -4.4, -4.3, -4.2, -4.1, -4.0, -3.9, -3.8, -3.7, -3.6, -3.5, -3.4, -3.3, -3.2, -3.1, -3.0, -2.9, -2.8, -2.7, -2.6, -2.5, -2.4, -2.3, -2.2, -2.1, -2.0, -1.9, -1.8, -1.7, -1.6, -1.5, -1.4, -1.3, -1.2, -1.1, -1.0, -0.9, -0.8, -0.7, -0.6, -0.5, -0.4, -0.3, -0.2, -0.1, 0.0, 0.1, 0.2, 0.3, 0.4, 0.5, 0.6, 0.7, 0.8, 0.9, 1.0, 1.1, 1.2, 1.3, 1.4, 1.5, 1.6, 1.7, 1.8, 1.9, 2.0, 2.1, 2.2, 2.3, 2.4, 2.5, 2.6, 2.7, 2.8, 2.9, 3.0, 3.1, 3.2, 3.3, 3.4, 3.5, 3.6, 3.7, 3.8, 3.9, 4.0, 4.1, 4.2, 4.3, 4.4, 4.5, 4.6, 4.7, 4.8, 4.9, 5.0, 5.1, 5.2, 5.3, 5.4, 5.5, 5.6, 5.7, 5.8, 5.9, 6.0, 6.1, 6.2, 6.3, 6.4, 6.5, 6.6, 6.7, 6.8, 6.9, 7.0, 7.1, 7.2, 7.3, 7.4, 7.5, 7.6, 7.7, 7.8, 7.9, 8.0, 8.1, 8.2, 8.3, 8.4, 8.5, 8.6, 8.7, 8.8, 8.9, 9.0, 9.1, 9.2, 9.3, 9.4, 9.5, 9.6, 9.7, 9.8, 9.9, 10.0]\n"
     ]
    }
   ],
   "source": [
    "possible_ms = [value/10 for value in range(-100, 101, 1)] #range funciona con enteros\n",
    "#print(possible_ms)"
   ]
  },
  {
   "cell_type": "code",
   "execution_count": 16,
   "id": "f5ac15f0",
   "metadata": {},
   "outputs": [
    {
     "name": "stdout",
     "output_type": "stream",
     "text": [
      "[-20.0, -19.9, -19.8, -19.7, -19.6, -19.5, -19.4, -19.3, -19.2, -19.1, -19.0, -18.9, -18.8, -18.7, -18.6, -18.5, -18.4, -18.3, -18.2, -18.1, -18.0, -17.9, -17.8, -17.7, -17.6, -17.5, -17.4, -17.3, -17.2, -17.1, -17.0, -16.9, -16.8, -16.7, -16.6, -16.5, -16.4, -16.3, -16.2, -16.1, -16.0, -15.9, -15.8, -15.7, -15.6, -15.5, -15.4, -15.3, -15.2, -15.1, -15.0, -14.9, -14.8, -14.7, -14.6, -14.5, -14.4, -14.3, -14.2, -14.1, -14.0, -13.9, -13.8, -13.7, -13.6, -13.5, -13.4, -13.3, -13.2, -13.1, -13.0, -12.9, -12.8, -12.7, -12.6, -12.5, -12.4, -12.3, -12.2, -12.1, -12.0, -11.9, -11.8, -11.7, -11.6, -11.5, -11.4, -11.3, -11.2, -11.1, -11.0, -10.9, -10.8, -10.7, -10.6, -10.5, -10.4, -10.3, -10.2, -10.1, -10.0, -9.9, -9.8, -9.7, -9.6, -9.5, -9.4, -9.3, -9.2, -9.1, -9.0, -8.9, -8.8, -8.7, -8.6, -8.5, -8.4, -8.3, -8.2, -8.1, -8.0, -7.9, -7.8, -7.7, -7.6, -7.5, -7.4, -7.3, -7.2, -7.1, -7.0, -6.9, -6.8, -6.7, -6.6, -6.5, -6.4, -6.3, -6.2, -6.1, -6.0, -5.9, -5.8, -5.7, -5.6, -5.5, -5.4, -5.3, -5.2, -5.1, -5.0, -4.9, -4.8, -4.7, -4.6, -4.5, -4.4, -4.3, -4.2, -4.1, -4.0, -3.9, -3.8, -3.7, -3.6, -3.5, -3.4, -3.3, -3.2, -3.1, -3.0, -2.9, -2.8, -2.7, -2.6, -2.5, -2.4, -2.3, -2.2, -2.1, -2.0, -1.9, -1.8, -1.7, -1.6, -1.5, -1.4, -1.3, -1.2, -1.1, -1.0, -0.9, -0.8, -0.7, -0.6, -0.5, -0.4, -0.3, -0.2, -0.1, 0.0, 0.1, 0.2, 0.3, 0.4, 0.5, 0.6, 0.7, 0.8, 0.9, 1.0, 1.1, 1.2, 1.3, 1.4, 1.5, 1.6, 1.7, 1.8, 1.9, 2.0, 2.1, 2.2, 2.3, 2.4, 2.5, 2.6, 2.7, 2.8, 2.9, 3.0, 3.1, 3.2, 3.3, 3.4, 3.5, 3.6, 3.7, 3.8, 3.9, 4.0, 4.1, 4.2, 4.3, 4.4, 4.5, 4.6, 4.7, 4.8, 4.9, 5.0, 5.1, 5.2, 5.3, 5.4, 5.5, 5.6, 5.7, 5.8, 5.9, 6.0, 6.1, 6.2, 6.3, 6.4, 6.5, 6.6, 6.7, 6.8, 6.9, 7.0, 7.1, 7.2, 7.3, 7.4, 7.5, 7.6, 7.7, 7.8, 7.9, 8.0, 8.1, 8.2, 8.3, 8.4, 8.5, 8.6, 8.7, 8.8, 8.9, 9.0, 9.1, 9.2, 9.3, 9.4, 9.5, 9.6, 9.7, 9.8, 9.9, 10.0, 10.1, 10.2, 10.3, 10.4, 10.5, 10.6, 10.7, 10.8, 10.9, 11.0, 11.1, 11.2, 11.3, 11.4, 11.5, 11.6, 11.7, 11.8, 11.9, 12.0, 12.1, 12.2, 12.3, 12.4, 12.5, 12.6, 12.7, 12.8, 12.9, 13.0, 13.1, 13.2, 13.3, 13.4, 13.5, 13.6, 13.7, 13.8, 13.9, 14.0, 14.1, 14.2, 14.3, 14.4, 14.5, 14.6, 14.7, 14.8, 14.9, 15.0, 15.1, 15.2, 15.3, 15.4, 15.5, 15.6, 15.7, 15.8, 15.9, 16.0, 16.1, 16.2, 16.3, 16.4, 16.5, 16.6, 16.7, 16.8, 16.9, 17.0, 17.1, 17.2, 17.3, 17.4, 17.5, 17.6, 17.7, 17.8, 17.9, 18.0, 18.1, 18.2, 18.3, 18.4, 18.5, 18.6, 18.7, 18.8, 18.9, 19.0, 19.1, 19.2, 19.3, 19.4, 19.5, 19.6, 19.7, 19.8, 19.9, 20.0]\n"
     ]
    }
   ],
   "source": [
    "possible_bs = [value/10 for value in range(-200, 201, 1)] #range funciona con enteros\n",
    "print(possible_bs)"
   ]
  },
  {
   "cell_type": "code",
   "execution_count": 17,
   "id": "25acd438",
   "metadata": {},
   "outputs": [
    {
     "name": "stdout",
     "output_type": "stream",
     "text": [
      "best m: 1.0\n",
      "best b: 0.0\n",
      "smallest error: 0.0\n"
     ]
    }
   ],
   "source": [
    "smallest_error = float(\"sinf\")\n",
    "best_m = 0\n",
    "best_b = 0\n",
    "\n",
    "for m in possible_ms:\n",
    "    for b in possible_bs:\n",
    "        actual_error= calculate_all_error(m, b, datapoints)\n",
    "        if actual_error < smallest_error:\n",
    "            smallest_error=actual_error\n",
    "            best_m = m\n",
    "            best_b = b\n",
    "            \n",
    "print(\"best m: \"+str(best_m))\n",
    "print(\"best b: \"+str(best_b))\n",
    "print(\"smallest error: \"+str(smallest_error))\n",
    "\n",
    "#debería haber dado best_m = 0.4 y best_b = 1.6"
   ]
  },
  {
   "cell_type": "code",
   "execution_count": 18,
   "id": "81fdb41b",
   "metadata": {},
   "outputs": [
    {
     "name": "stdout",
     "output_type": "stream",
     "text": [
      "The height of a ball with width of 6 is :6.0\n"
     ]
    }
   ],
   "source": [
    "print(\"The height of a ball with width of 6 is :\"+str(get_y(best_m, 6, best_b)))"
   ]
  },
  {
   "cell_type": "code",
   "execution_count": null,
   "id": "28392b93",
   "metadata": {},
   "outputs": [],
   "source": []
  }
 ],
 "metadata": {
  "kernelspec": {
   "display_name": "Python 3 (ipykernel)",
   "language": "python",
   "name": "python3"
  },
  "language_info": {
   "codemirror_mode": {
    "name": "ipython",
    "version": 3
   },
   "file_extension": ".py",
   "mimetype": "text/x-python",
   "name": "python",
   "nbconvert_exporter": "python",
   "pygments_lexer": "ipython3",
   "version": "3.11.5"
  }
 },
 "nbformat": 4,
 "nbformat_minor": 5
}
