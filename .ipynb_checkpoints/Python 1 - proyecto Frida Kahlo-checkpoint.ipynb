{
 "cells": [
  {
   "cell_type": "code",
   "execution_count": 4,
   "id": "77823151",
   "metadata": {},
   "outputs": [
    {
     "name": "stdout",
     "output_type": "stream",
     "text": [
      "[('The Two Fridas', 1939), ('My Dress Hangs Here', 1933), ('Tree of Hope', 1946), ('Self Portrait With Monkeys', 1940)]\n"
     ]
    }
   ],
   "source": [
    "paintings = ['The Two Fridas', 'My Dress Hangs Here', 'Tree of Hope', 'Self Portrait With Monkeys']\n",
    "dates = [1939, 1933, 1946, 1940]\n",
    "paintings_dates = list(zip(paintings,dates))\n",
    "print(paintings_dates)"
   ]
  },
  {
   "cell_type": "code",
   "execution_count": 9,
   "id": "5424dc8b",
   "metadata": {},
   "outputs": [
    {
     "name": "stdout",
     "output_type": "stream",
     "text": [
      "[('The Two Fridas', 1939), ('My Dress Hangs Here', 1933), ('Tree of Hope', 1946), ('Self Portrait With Monkeys', 1940), ('The Broken Column', 1944), ('The Broken Column', 1944), ('The Wounded Deer', 1946), ('Me and My Doll', 1937), ('The Broken Column', 1944), ('The Wounded Deer', 1946), ('Me and My Doll', 1937)]\n"
     ]
    }
   ],
   "source": [
    "paintings_dates.append(('The Broken Column', 1944))\n",
    "paintings_dates.append(('The Wounded Deer', 1946))\n",
    "paintings_dates.append(('Me and My Doll', 1937))\n",
    "print(paintings_dates)"
   ]
  },
  {
   "cell_type": "code",
   "execution_count": 15,
   "id": "2e20afc9",
   "metadata": {},
   "outputs": [
    {
     "name": "stdout",
     "output_type": "stream",
     "text": [
      "[1, 2, 3, 4]\n"
     ]
    }
   ],
   "source": [
    "paintings_IDs = []\n",
    "paintings_IDs = list(range(1, len(paintings)+1))\n",
    "print(paintings_IDs)"
   ]
  },
  {
   "cell_type": "code",
   "execution_count": 16,
   "id": "ff2ba088",
   "metadata": {},
   "outputs": [
    {
     "name": "stdout",
     "output_type": "stream",
     "text": [
      "[(1, ('The Two Fridas', 1939)), (2, ('My Dress Hangs Here', 1933)), (3, ('Tree of Hope', 1946)), (4, ('Self Portrait With Monkeys', 1940))]\n"
     ]
    }
   ],
   "source": [
    "master_list = list(zip(paintings_IDs, paintings_dates))\n",
    "print(master_list)"
   ]
  },
  {
   "cell_type": "code",
   "execution_count": null,
   "id": "b6524f4b",
   "metadata": {},
   "outputs": [],
   "source": []
  }
 ],
 "metadata": {
  "kernelspec": {
   "display_name": "Python 3 (ipykernel)",
   "language": "python",
   "name": "python3"
  },
  "language_info": {
   "codemirror_mode": {
    "name": "ipython",
    "version": 3
   },
   "file_extension": ".py",
   "mimetype": "text/x-python",
   "name": "python",
   "nbconvert_exporter": "python",
   "pygments_lexer": "ipython3",
   "version": "3.11.5"
  }
 },
 "nbformat": 4,
 "nbformat_minor": 5
}
